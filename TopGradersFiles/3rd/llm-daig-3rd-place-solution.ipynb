{
 "cells": [
  {
   "cell_type": "code",
   "execution_count": 1,
   "id": "c4114a1e",
   "metadata": {
    "execution": {
     "iopub.execute_input": "2024-01-27T20:14:58.267423Z",
     "iopub.status.busy": "2024-01-27T20:14:58.267022Z",
     "iopub.status.idle": "2024-01-27T20:15:32.734381Z",
     "shell.execute_reply": "2024-01-27T20:15:32.733116Z"
    },
    "papermill": {
     "duration": 34.479519,
     "end_time": "2024-01-27T20:15:32.737112",
     "exception": false,
     "start_time": "2024-01-27T20:14:58.257593",
     "status": "completed"
    },
    "tags": []
   },
   "outputs": [
    {
     "name": "stdout",
     "output_type": "stream",
     "text": [
      "Processing /kaggle/input/pyspellchecker/pyspellchecker-0.7.2-py3-none-any.whl\r\n",
      "Installing collected packages: pyspellchecker\r\n",
      "Successfully installed pyspellchecker-0.7.2\r\n"
     ]
    }
   ],
   "source": [
    "!pip install \"/kaggle/input/pyspellchecker/pyspellchecker-0.7.2-py3-none-any.whl\""
   ]
  },
  {
   "cell_type": "code",
   "execution_count": 2,
   "id": "dee95f2e",
   "metadata": {
    "execution": {
     "iopub.execute_input": "2024-01-27T20:15:32.754704Z",
     "iopub.status.busy": "2024-01-27T20:15:32.754325Z",
     "iopub.status.idle": "2024-01-27T20:15:32.763014Z",
     "shell.execute_reply": "2024-01-27T20:15:32.761915Z"
    },
    "papermill": {
     "duration": 0.020326,
     "end_time": "2024-01-27T20:15:32.765412",
     "exception": false,
     "start_time": "2024-01-27T20:15:32.745086",
     "status": "completed"
    },
    "tags": []
   },
   "outputs": [
    {
     "name": "stdout",
     "output_type": "stream",
     "text": [
      "Writing deobfuscate.py\n"
     ]
    }
   ],
   "source": [
    "%%writefile deobfuscate.py\n",
    "\n",
    "import spacy\n",
    "import pandas as pd\n",
    "import torch\n",
    "from transformers import AutoTokenizer, AutoModelForSeq2SeqLM\n",
    "from collections import Counter\n",
    "from tqdm import tqdm\n",
    "from spellchecker import SpellChecker\n",
    "from nltk import word_tokenize\n",
    "import gc\n",
    "\n",
    "spell = SpellChecker()\n",
    "    \n",
    "def get_typos_count(input_text):\n",
    "    words = word_tokenize(input_text)\n",
    "    misspelled = spell.unknown(words)\n",
    "    return len(misspelled)\n",
    "\n",
    "@torch.no_grad()\n",
    "def clean_essay(text):\n",
    "    doc = nlp(text)\n",
    "    inputs = tokenizer([s.text for s in doc.sents], truncation=True, padding=True, return_tensors=\"pt\")\n",
    "    outputs = deobfuscator.generate(inputs.input_ids.to(DEVICE), max_length=300)\n",
    "    sents = tokenizer.batch_decode(outputs, skip_special_tokens=True)\n",
    "    return \" \".join([s.strip() for s in sents])\n",
    "\n",
    "\n",
    "MODEL_PATH = \"/kaggle/input/essay-gec/deobfuscator-v1\"\n",
    "DEVICE = \"cuda:0\"\n",
    "\n",
    "tokenizer = AutoTokenizer.from_pretrained(MODEL_PATH)\n",
    "deobfuscator = AutoModelForSeq2SeqLM.from_pretrained(MODEL_PATH).to(DEVICE).eval()\n",
    "\n",
    "nlp = spacy.load(\"en_core_web_sm\")\n",
    "\n",
    "test = pd.read_csv(\"/kaggle/input/llm-detect-ai-generated-text/test_essays.csv\")\n",
    "test['n_typos'] = test['text'].apply(get_typos_count)\n",
    "clean_texts = []\n",
    "for i, r in tqdm(test.iterrows(), total=len(test)):\n",
    "    if r.n_typos < 15:\n",
    "        clean_texts.append(r.text)\n",
    "    else:\n",
    "        clean_texts.append(clean_essay(r.text))\n",
    "test[\"text\"] = clean_texts\n",
    "\n",
    "del deobfuscator, clean_texts\n",
    "gc.collect()\n",
    "torch.cuda.empty_cache()\n",
    "\n",
    "test.to_csv('test_essays.csv', index=False)"
   ]
  },
  {
   "cell_type": "code",
   "execution_count": 3,
   "id": "528328bc",
   "metadata": {
    "execution": {
     "iopub.execute_input": "2024-01-27T20:15:32.783010Z",
     "iopub.status.busy": "2024-01-27T20:15:32.782096Z",
     "iopub.status.idle": "2024-01-27T20:15:32.790325Z",
     "shell.execute_reply": "2024-01-27T20:15:32.789306Z"
    },
    "papermill": {
     "duration": 0.019444,
     "end_time": "2024-01-27T20:15:32.792651",
     "exception": false,
     "start_time": "2024-01-27T20:15:32.773207",
     "status": "completed"
    },
    "tags": []
   },
   "outputs": [
    {
     "name": "stdout",
     "output_type": "stream",
     "text": [
      "Writing llm_inference.py\n"
     ]
    }
   ],
   "source": [
    "%%writefile llm_inference.py\n",
    "\n",
    "import pandas as pd\n",
    "\n",
    "from pathlib import Path\n",
    "import os\n",
    "os.environ[\"TOKENIZERS_PARALLELISM\"] = \"true\"\n",
    "\n",
    "import warnings\n",
    "warnings.simplefilter(action='ignore', category=pd.errors.PerformanceWarning)\n",
    "warnings.filterwarnings(\"ignore\")\n",
    "\n",
    "from tqdm.notebook import tqdm\n",
    "tqdm.pandas()\n",
    "\n",
    "import torch\n",
    "from transformers import AutoTokenizer, AutoConfig\n",
    "\n",
    "import sys\n",
    "sys.path.append('/kaggle/input/llm-daig-src-code/src')\n",
    "\n",
    "from config import load_config, dictionary_to_namespace\n",
    "from data import clean_text, clean_text2, make_text, CustomDataset, Collator\n",
    "from models import CustomModel\n",
    "from training import seed_everything, get_optimizer, get_scheduler, get_valid_steps, metrics, criterion, Trainer\n",
    "\n",
    "\n",
    "model_names = [\n",
    "    'exp222', 'exp200', 'exp184', 'exp179',\n",
    "    'exp477', 'exp478',\n",
    "    'exp489', 'exp492', 'exp510', 'exp512',\n",
    "    'exp500',\n",
    "    'exp511'\n",
    "]\n",
    "models_path = Path('/kaggle/input/llm-daig-final-models')\n",
    "\n",
    "for model_name in model_names:\n",
    "    df = pd.read_csv('test_essays.csv')\n",
    "    \n",
    "    config = load_config(models_path / 'configs' / f'{model_name}.yaml')\n",
    "    config = dictionary_to_namespace(config)\n",
    "    seed_everything(config.seed)\n",
    "    \n",
    "    config.model.freeze_embeddings = False\n",
    "    config.dataset.max_length = 1512\n",
    "    \n",
    "    df['text_len'] = df['text'].str.len()\n",
    "    df = df.sort_values('text_len')\n",
    "    \n",
    "    if model_name in ['exp222', 'exp200', 'exp184', 'exp179',]:\n",
    "        df['text'] = df['text'].apply(clean_text2)\n",
    "    else:\n",
    "        df['text'] = df['text'].apply(clean_text)\n",
    "    df = make_text(df, config)\n",
    "\n",
    "    tokenizer = AutoTokenizer.from_pretrained(models_path / 'tokenizer', use_fast=False)\n",
    "    config.tokenizer = tokenizer\n",
    "\n",
    "    dataset = CustomDataset(df, config, train=False)\n",
    "    collator = Collator(pad_to_multiple_of=0)\n",
    "\n",
    "    config.dataset.valid_batch_size = 4\n",
    "    dataloader = torch.utils.data.DataLoader(\n",
    "        dataset,\n",
    "        batch_size=config.dataset.valid_batch_size,\n",
    "        num_workers=2,\n",
    "        shuffle=False,\n",
    "        pin_memory=True,\n",
    "        drop_last=False,\n",
    "        collate_fn=collator,\n",
    "    )\n",
    "\n",
    "    backbone_config = AutoConfig.from_pretrained(models_path / 'backbone_configs' / f'{model_name}.json')\n",
    "    model_criterion = criterion.get_criterion(config)\n",
    "    model = CustomModel(\n",
    "        config, \n",
    "        init_from_config=True,\n",
    "        criterion=model_criterion,\n",
    "        backbone_config=backbone_config\n",
    "    )\n",
    "            \n",
    "    state = torch.load(\n",
    "        models_path / 'models' / f'{model_name}_weights.pth', \n",
    "        map_location=torch.device('cpu')\n",
    "    )\n",
    "    model.load_state_dict(state['model'])\n",
    "\n",
    "    trainer = Trainer(model, config)\n",
    "    predictions = trainer.predict(dataloader)\n",
    "    \n",
    "    df['preds'] = predictions\n",
    "    exp_name = config.exp_name.split('_')[0]\n",
    "    df.to_csv(f'submission_{exp_name}.csv', index=False)"
   ]
  },
  {
   "cell_type": "code",
   "execution_count": 4,
   "id": "4cee158f",
   "metadata": {
    "execution": {
     "iopub.execute_input": "2024-01-27T20:15:32.809995Z",
     "iopub.status.busy": "2024-01-27T20:15:32.809666Z",
     "iopub.status.idle": "2024-01-27T20:21:40.092811Z",
     "shell.execute_reply": "2024-01-27T20:21:40.091769Z"
    },
    "papermill": {
     "duration": 367.294856,
     "end_time": "2024-01-27T20:21:40.095465",
     "exception": false,
     "start_time": "2024-01-27T20:15:32.800609",
     "status": "completed"
    },
    "tags": []
   },
   "outputs": [
    {
     "name": "stdout",
     "output_type": "stream",
     "text": [
      "/opt/conda/lib/python3.10/site-packages/scipy/__init__.py:146: UserWarning: A NumPy version >=1.16.5 and <1.23.0 is required for this version of SciPy (detected version 1.24.3\r\n",
      "  warnings.warn(f\"A NumPy version >={np_minversion} and <{np_maxversion}\"\r\n",
      "100%|███████████████████████████████████████████| 3/3 [00:00<00:00, 3986.98it/s]\r\n",
      "100%|█████████████████████████████████████████████| 1/1 [00:01<00:00,  1.23s/it]\r\n",
      "100%|█████████████████████████████████████████████| 1/1 [00:00<00:00,  4.27it/s]\r\n",
      "100%|█████████████████████████████████████████████| 1/1 [00:00<00:00,  3.62it/s]\r\n",
      "100%|█████████████████████████████████████████████| 1/1 [00:00<00:00,  2.99it/s]\r\n",
      "100%|█████████████████████████████████████████████| 1/1 [00:00<00:00,  3.19it/s]\r\n",
      "100%|█████████████████████████████████████████████| 1/1 [00:00<00:00,  3.20it/s]\r\n",
      "100%|█████████████████████████████████████████████| 1/1 [00:00<00:00,  3.08it/s]\r\n",
      "100%|█████████████████████████████████████████████| 1/1 [00:00<00:00,  3.35it/s]\r\n",
      "100%|█████████████████████████████████████████████| 1/1 [00:00<00:00,  3.38it/s]\r\n",
      "100%|█████████████████████████████████████████████| 1/1 [00:00<00:00,  2.96it/s]\r\n",
      "100%|█████████████████████████████████████████████| 1/1 [00:00<00:00,  3.19it/s]\r\n",
      "100%|█████████████████████████████████████████████| 1/1 [00:00<00:00,  3.07it/s]\r\n"
     ]
    }
   ],
   "source": [
    "!python deobfuscate.py\n",
    "!python llm_inference.py"
   ]
  },
  {
   "cell_type": "code",
   "execution_count": null,
   "id": "d3988adc",
   "metadata": {
    "papermill": {
     "duration": 0.011334,
     "end_time": "2024-01-27T20:21:40.117752",
     "exception": false,
     "start_time": "2024-01-27T20:21:40.106418",
     "status": "completed"
    },
    "tags": []
   },
   "outputs": [],
   "source": []
  },
  {
   "cell_type": "code",
   "execution_count": 5,
   "id": "28dc6432",
   "metadata": {
    "execution": {
     "iopub.execute_input": "2024-01-27T20:21:40.142642Z",
     "iopub.status.busy": "2024-01-27T20:21:40.142255Z",
     "iopub.status.idle": "2024-01-27T20:21:40.715362Z",
     "shell.execute_reply": "2024-01-27T20:21:40.714162Z"
    },
    "papermill": {
     "duration": 0.589134,
     "end_time": "2024-01-27T20:21:40.718141",
     "exception": false,
     "start_time": "2024-01-27T20:21:40.129007",
     "status": "completed"
    },
    "tags": []
   },
   "outputs": [],
   "source": [
    "import pandas as pd\n",
    "import numpy as np\n",
    "\n",
    "exps = ['exp200', 'exp184', 'exp222', 'exp179']\n",
    "\n",
    "df = pd.read_csv(f'submission_{exps[0]}.csv', usecols=['id', 'text'])\n",
    "\n",
    "for exp in exps:\n",
    "    df_temp = pd.read_csv(f'submission_{exp}.csv')\n",
    "    df_temp = df_temp[['id', 'preds']]\n",
    "    df_temp.rename(columns={'preds': exp}, inplace=True)\n",
    "    df = pd.merge(df, df_temp, on='id', how='left')\n",
    "    \n",
    "df['generated'] = df[exps].mean(axis=1)\n",
    "\n",
    "if df[(df['generated'] < 0.01) | (df['generated'] > 0.99)].shape[0] == 0:\n",
    "    df = df.head(1)\n",
    "else:\n",
    "    df = df[(df['generated'] < 0.01) | (df['generated'] > 0.99)]\n",
    "    \n",
    "    df.loc[(df['generated'] < 0.01), 'dist'] = df.loc[(df['generated'] < 0.01), 'generated']\n",
    "    df.loc[(df['generated'] > 0.99), 'dist'] = 1 - df.loc[(df['generated'] > 0.99), 'generated']\n",
    "    \n",
    "    df = df.sort_values('dist')\n",
    "    if df.shape[0] > 1000:\n",
    "        df = df.head(1000)\n",
    "\n",
    "df.loc[(df['generated'] < 0.01), 'generated'] = 0\n",
    "df.loc[(df['generated'] > 0.99), 'generated'] = 1\n",
    "\n",
    "df = df[['text', 'generated']]\n",
    "df.rename(columns={'generated': 'label'}, inplace=True)\n",
    "\n",
    "df.to_csv('pseudo.csv', index=False)"
   ]
  },
  {
   "cell_type": "code",
   "execution_count": null,
   "id": "e1160105",
   "metadata": {
    "papermill": {
     "duration": 0.011499,
     "end_time": "2024-01-27T20:21:40.741500",
     "exception": false,
     "start_time": "2024-01-27T20:21:40.730001",
     "status": "completed"
    },
    "tags": []
   },
   "outputs": [],
   "source": []
  },
  {
   "cell_type": "code",
   "execution_count": 6,
   "id": "acd40b1e",
   "metadata": {
    "execution": {
     "iopub.execute_input": "2024-01-27T20:21:40.766096Z",
     "iopub.status.busy": "2024-01-27T20:21:40.765716Z",
     "iopub.status.idle": "2024-01-27T20:24:20.470106Z",
     "shell.execute_reply": "2024-01-27T20:24:20.469158Z"
    },
    "papermill": {
     "duration": 159.719854,
     "end_time": "2024-01-27T20:24:20.472780",
     "exception": false,
     "start_time": "2024-01-27T20:21:40.752926",
     "status": "completed"
    },
    "tags": []
   },
   "outputs": [
    {
     "name": "stderr",
     "output_type": "stream",
     "text": [
      "/opt/conda/lib/python3.10/site-packages/scipy/__init__.py:146: UserWarning: A NumPy version >=1.16.5 and <1.23.0 is required for this version of SciPy (detected version 1.24.3\n",
      "  warnings.warn(f\"A NumPy version >={np_minversion} and <{np_maxversion}\"\n",
      "/opt/conda/lib/python3.10/site-packages/dask/dataframe/_pyarrow_compat.py:23: UserWarning: You are using pyarrow version 11.0.0 which is known to be insecure. See https://www.cve.org/CVERecord?id=CVE-2023-47248 for further details. Please upgrade to pyarrow>=14.0.1 or install pyarrow-hotfix to patch your current version.\n",
      "  warnings.warn(\n",
      "/opt/conda/lib/python3.10/site-packages/pyarrow/pandas_compat.py:373: FutureWarning: is_sparse is deprecated and will be removed in a future version. Check `isinstance(dtype, pd.SparseDtype)` instead.\n",
      "  if _pandas_api.is_sparse(col):\n"
     ]
    },
    {
     "name": "stdout",
     "output_type": "stream",
     "text": [
      "\n",
      "\n",
      "\n"
     ]
    },
    {
     "data": {
      "application/vnd.jupyter.widget-view+json": {
       "model_id": "db5f6fc1fa6b4b528543b215a58a88d0",
       "version_major": 2,
       "version_minor": 0
      },
      "text/plain": [
       "  0%|          | 0/3 [00:00<?, ?it/s]"
      ]
     },
     "metadata": {},
     "output_type": "display_data"
    },
    {
     "data": {
      "application/vnd.jupyter.widget-view+json": {
       "model_id": "f6a18e89d1a24153b7e1a635f0a6663d",
       "version_major": 2,
       "version_minor": 0
      },
      "text/plain": [
       "  0%|          | 0/44865 [00:00<?, ?it/s]"
      ]
     },
     "metadata": {},
     "output_type": "display_data"
    }
   ],
   "source": [
    "import sys\n",
    "import gc\n",
    "\n",
    "import pandas as pd\n",
    "from sklearn.model_selection import StratifiedKFold\n",
    "import numpy as np\n",
    "from sklearn.metrics import roc_auc_score\n",
    "import numpy as np\n",
    "from lightgbm import LGBMClassifier\n",
    "from catboost import CatBoostClassifier\n",
    "from sklearn.feature_extraction.text import TfidfVectorizer\n",
    "\n",
    "from tokenizers import (\n",
    "    decoders,\n",
    "    models,\n",
    "    normalizers,\n",
    "    pre_tokenizers,\n",
    "    processors,\n",
    "    trainers,\n",
    "    Tokenizer,\n",
    ")\n",
    "\n",
    "from datasets import Dataset\n",
    "from tqdm.auto import tqdm\n",
    "from transformers import PreTrainedTokenizerFast\n",
    "\n",
    "from sklearn.linear_model import SGDClassifier\n",
    "from sklearn.naive_bayes import MultinomialNB\n",
    "from sklearn.ensemble import VotingClassifier\n",
    "\n",
    "test = pd.read_csv('/kaggle/input/llm-detect-ai-generated-text/test_essays.csv')\n",
    "sub = pd.read_csv('/kaggle/input/llm-detect-ai-generated-text/sample_submission.csv')\n",
    "org_train = pd.read_csv('/kaggle/input/llm-detect-ai-generated-text/train_essays.csv')\n",
    "train = pd.read_csv(\"/kaggle/input/daigt-v2-train-dataset/train_v2_drcat_02.csv\", sep=',')\n",
    "pseudo = pd.read_csv('pseudo.csv')\n",
    "train = pd.concat([train, pseudo])\n",
    "\n",
    "train['text'] = train['text'].str.strip()\n",
    "test['text'] = test['text'].str.strip()\n",
    "\n",
    "train = train.drop_duplicates(subset=['text'])\n",
    "train.reset_index(drop=True, inplace=True)\n",
    "\n",
    "LOWERCASE = False\n",
    "VOCAB_SIZE = 30522\n",
    "\n",
    "raw_tokenizer = Tokenizer(models.BPE(unk_token=\"[UNK]\"))\n",
    "raw_tokenizer.normalizer = normalizers.Sequence([normalizers.NFC()] + [normalizers.Lowercase()] if LOWERCASE else [])\n",
    "raw_tokenizer.pre_tokenizer = pre_tokenizers.ByteLevel()\n",
    "special_tokens = [\"[UNK]\", \"[PAD]\", \"[CLS]\", \"[SEP]\", \"[MASK]\"]\n",
    "trainer = trainers.BpeTrainer(vocab_size=VOCAB_SIZE, special_tokens=special_tokens)\n",
    "\n",
    "hq_pers = pd.read_csv('/kaggle/input/persaude-corpus-2/persuade_2.0_human_scores_demo_id_github.csv')\n",
    "hq_pers = hq_pers[hq_pers['holistic_essay_score'] > 4]\n",
    "hq_pers.rename(columns={'full_text': 'text'}, inplace=True)\n",
    "tokenizer_df = pd.concat([test, hq_pers])\n",
    "dataset = Dataset.from_pandas(tokenizer_df[['text']])\n",
    "\n",
    "def train_corp_iter(): \n",
    "    for i in range(0, len(dataset), 1000):\n",
    "        yield dataset[i : i + 1000][\"text\"]\n",
    "        \n",
    "raw_tokenizer.train_from_iterator(train_corp_iter(), trainer=trainer)\n",
    "tokenizer = PreTrainedTokenizerFast(\n",
    "    tokenizer_object=raw_tokenizer,\n",
    "    unk_token=\"[UNK]\",\n",
    "    pad_token=\"[PAD]\",\n",
    "    cls_token=\"[CLS]\",\n",
    "    sep_token=\"[SEP]\",\n",
    "    mask_token=\"[MASK]\",\n",
    ")\n",
    "\n",
    "tokenizer.save_pretrained('persuade_tokenizer')\n",
    "\n",
    "tokenized_texts_test = []\n",
    "for text in tqdm(test['text'].tolist()):\n",
    "    tokenized_texts_test.append(tokenizer.tokenize(text))\n",
    "\n",
    "tokenized_texts_train = []\n",
    "for text in tqdm(train['text'].tolist()):\n",
    "    tokenized_texts_train.append(tokenizer.tokenize(text))\n",
    "    \n",
    "def dummy(text):\n",
    "    return text\n",
    "\n",
    "vectorizer = TfidfVectorizer(ngram_range=(3, 5), lowercase=False, sublinear_tf=True, analyzer = 'word',\n",
    "    tokenizer = dummy,\n",
    "    preprocessor = dummy,\n",
    "    token_pattern = None, strip_accents='unicode')\n",
    "\n",
    "\n",
    "vectorizer.fit(tokenized_texts_test)\n",
    "vocab = vectorizer.vocabulary_\n",
    "\n",
    "vectorizer = TfidfVectorizer(ngram_range=(3, 5), lowercase=False, sublinear_tf=True, vocabulary=vocab,\n",
    "                            analyzer = 'word',\n",
    "                            tokenizer = dummy,\n",
    "                            preprocessor = dummy,\n",
    "                            token_pattern = None, strip_accents='unicode'\n",
    "                            )\n",
    "\n",
    "tf_train = vectorizer.fit_transform(tokenized_texts_train)\n",
    "tf_test = vectorizer.transform(tokenized_texts_test)\n",
    "\n",
    "del vectorizer\n",
    "gc.collect()\n",
    "\n",
    "y_train = train['label'].values\n",
    "\n",
    "if len(test.text.values) <= 5:\n",
    "    sub.to_csv('submission_960.csv', index=False)\n",
    "else:\n",
    "    clf = MultinomialNB(alpha=0.02)\n",
    "    sgd_model = SGDClassifier(max_iter=8000, tol=1e-4, loss=\"modified_huber\") \n",
    "    p6={'n_iter': 1750,'verbose': -1,'objective': 'binary','metric': 'auc','learning_rate': 0.05073909898961407, 'colsample_bytree': 0.726023996436955, 'colsample_bynode': 0.5803681307354022, 'lambda_l1': 8.562963348932286, 'lambda_l2': 4.893256185259296, 'min_data_in_leaf': 115, 'max_depth': 23, 'max_bin': 898}\n",
    "    lgb=LGBMClassifier(**p6)\n",
    "    cat=CatBoostClassifier(iterations=1250,\n",
    "                           verbose=0,\n",
    "                           l2_leaf_reg=6.6591278779517808,\n",
    "                           learning_rate=0.005689066836106983,\n",
    "                           allow_const_label=True,loss_function = 'CrossEntropy')\n",
    "    weights = [0.05,0.225,0.225,0.5]\n",
    " \n",
    "    ensemble = VotingClassifier(estimators=[('mnb',clf),\n",
    "                                            ('sgd', sgd_model),\n",
    "                                            ('lgb',lgb), \n",
    "                                            ('cat', cat)\n",
    "                                           ],\n",
    "                                weights=weights, voting='soft', n_jobs=-1)\n",
    "    ensemble.fit(tf_train, y_train)\n",
    "    gc.collect()\n",
    "    final_preds = ensemble.predict_proba(tf_test)[:,1]\n",
    "    sub['generated'] = final_preds\n",
    "    sub.to_csv('submission_960.csv', index=False)\n",
    "    sub"
   ]
  },
  {
   "cell_type": "code",
   "execution_count": null,
   "id": "1cc2b4b3",
   "metadata": {
    "papermill": {
     "duration": 0.012325,
     "end_time": "2024-01-27T20:24:20.497896",
     "exception": false,
     "start_time": "2024-01-27T20:24:20.485571",
     "status": "completed"
    },
    "tags": []
   },
   "outputs": [],
   "source": []
  },
  {
   "cell_type": "code",
   "execution_count": null,
   "id": "775a0a76",
   "metadata": {
    "papermill": {
     "duration": 0.012261,
     "end_time": "2024-01-27T20:24:20.522789",
     "exception": false,
     "start_time": "2024-01-27T20:24:20.510528",
     "status": "completed"
    },
    "tags": []
   },
   "outputs": [],
   "source": []
  },
  {
   "cell_type": "code",
   "execution_count": 7,
   "id": "ee5221d4",
   "metadata": {
    "execution": {
     "iopub.execute_input": "2024-01-27T20:24:20.550341Z",
     "iopub.status.busy": "2024-01-27T20:24:20.549264Z",
     "iopub.status.idle": "2024-01-27T20:24:20.582013Z",
     "shell.execute_reply": "2024-01-27T20:24:20.581024Z"
    },
    "papermill": {
     "duration": 0.049257,
     "end_time": "2024-01-27T20:24:20.584682",
     "exception": false,
     "start_time": "2024-01-27T20:24:20.535425",
     "status": "completed"
    },
    "tags": []
   },
   "outputs": [],
   "source": [
    "import pandas as pd\n",
    "import numpy as np\n",
    "\n",
    "exp_name = 'exp222'\n",
    "exps = ['exp200', 'exp184', 'exp222', 'exp179',]\n",
    "\n",
    "df = pd.read_csv(f'submission_{exp_name}.csv', usecols=['id', 'text'])\n",
    "\n",
    "for exp in exps:\n",
    "    df_temp = pd.read_csv(f'submission_{exp}.csv')\n",
    "    df_temp = df_temp[['id', 'preds']]\n",
    "    df_temp.rename(columns={'preds': exp}, inplace=True)\n",
    "    df = pd.merge(df, df_temp, on='id', how='left')\n",
    "    \n",
    "df['generated'] = df[exps].mean(axis=1)\n",
    "df[['id', 'generated',]].to_csv('submission_936.csv', index=False)"
   ]
  },
  {
   "cell_type": "code",
   "execution_count": 8,
   "id": "a8a2dfeb",
   "metadata": {
    "execution": {
     "iopub.execute_input": "2024-01-27T20:24:20.612243Z",
     "iopub.status.busy": "2024-01-27T20:24:20.611526Z",
     "iopub.status.idle": "2024-01-27T20:24:20.669179Z",
     "shell.execute_reply": "2024-01-27T20:24:20.667918Z"
    },
    "papermill": {
     "duration": 0.073636,
     "end_time": "2024-01-27T20:24:20.671977",
     "exception": false,
     "start_time": "2024-01-27T20:24:20.598341",
     "status": "completed"
    },
    "tags": []
   },
   "outputs": [],
   "source": [
    "import pandas as pd\n",
    "import numpy as np\n",
    "\n",
    "model_names = [\n",
    "    '/kaggle/input/llm-daig-exp477',\n",
    "    '/kaggle/input/llm-daig-exp478',\n",
    "    \n",
    "    '/kaggle/input/llm-daig-exp489',\n",
    "    '/kaggle/input/llm-daig-exp492',\n",
    "    '/kaggle/input/llm-daig-exp510',\n",
    "    '/kaggle/input/llm-daig-exp512',\n",
    "    \n",
    "    '/kaggle/input/llm-daig-exp500', \n",
    "    \n",
    "    '/kaggle/input/llm-daig-exp511', \n",
    "]\n",
    "exps = [exp.split('-')[-1] for exp in model_names]\n",
    "\n",
    "df = pd.read_csv(f'submission_{exps[0]}.csv', usecols=['id', 'text'])\n",
    "\n",
    "for exp in exps:\n",
    "    df_temp = pd.read_csv(f'submission_{exp}.csv')\n",
    "    df_temp = df_temp[['id', 'preds']]\n",
    "    \n",
    "    df_temp.rename(columns={'preds': exp}, inplace=True)\n",
    "    df = pd.merge(df, df_temp, on='id', how='left')\n",
    "    \n",
    "df['generated'] = df[['exp512', 'exp510', 'exp492', 'exp489']].mean(axis=1) * 0.8 + df[['exp511', 'exp500', 'exp478', 'exp477']].mean(axis=1) * 0.2\n",
    "df[['id', 'generated',]].to_csv('submission_959.csv', index=False)"
   ]
  },
  {
   "cell_type": "code",
   "execution_count": 9,
   "id": "fdca20b8",
   "metadata": {
    "execution": {
     "iopub.execute_input": "2024-01-27T20:24:20.699606Z",
     "iopub.status.busy": "2024-01-27T20:24:20.699207Z",
     "iopub.status.idle": "2024-01-27T20:24:20.721564Z",
     "shell.execute_reply": "2024-01-27T20:24:20.720487Z"
    },
    "papermill": {
     "duration": 0.039041,
     "end_time": "2024-01-27T20:24:20.723956",
     "exception": false,
     "start_time": "2024-01-27T20:24:20.684915",
     "status": "completed"
    },
    "tags": []
   },
   "outputs": [
    {
     "data": {
      "text/html": [
       "<div>\n",
       "<style scoped>\n",
       "    .dataframe tbody tr th:only-of-type {\n",
       "        vertical-align: middle;\n",
       "    }\n",
       "\n",
       "    .dataframe tbody tr th {\n",
       "        vertical-align: top;\n",
       "    }\n",
       "\n",
       "    .dataframe thead th {\n",
       "        text-align: right;\n",
       "    }\n",
       "</style>\n",
       "<table border=\"1\" class=\"dataframe\">\n",
       "  <thead>\n",
       "    <tr style=\"text-align: right;\">\n",
       "      <th></th>\n",
       "      <th>id</th>\n",
       "      <th>text</th>\n",
       "      <th>exp477</th>\n",
       "      <th>exp478</th>\n",
       "      <th>exp489</th>\n",
       "      <th>exp492</th>\n",
       "      <th>exp510</th>\n",
       "      <th>exp512</th>\n",
       "      <th>exp500</th>\n",
       "      <th>exp511</th>\n",
       "      <th>generated</th>\n",
       "    </tr>\n",
       "  </thead>\n",
       "  <tbody>\n",
       "    <tr>\n",
       "      <th>0</th>\n",
       "      <td>0000aaaa</td>\n",
       "      <td>Aaa bbb ccc .</td>\n",
       "      <td>0.9990</td>\n",
       "      <td>0.9990</td>\n",
       "      <td>0.07367</td>\n",
       "      <td>0.05225</td>\n",
       "      <td>0.09125</td>\n",
       "      <td>0.022250</td>\n",
       "      <td>0.1807</td>\n",
       "      <td>0.05792</td>\n",
       "      <td>0.159715</td>\n",
       "    </tr>\n",
       "    <tr>\n",
       "      <th>1</th>\n",
       "      <td>1111bbbb</td>\n",
       "      <td>Bbb ccc ddd .</td>\n",
       "      <td>0.9995</td>\n",
       "      <td>0.9995</td>\n",
       "      <td>0.04700</td>\n",
       "      <td>0.02806</td>\n",
       "      <td>0.04840</td>\n",
       "      <td>0.005867</td>\n",
       "      <td>0.3333</td>\n",
       "      <td>0.12000</td>\n",
       "      <td>0.148480</td>\n",
       "    </tr>\n",
       "    <tr>\n",
       "      <th>2</th>\n",
       "      <td>2222cccc</td>\n",
       "      <td>CCC ddd eee .</td>\n",
       "      <td>0.9990</td>\n",
       "      <td>0.9990</td>\n",
       "      <td>0.13950</td>\n",
       "      <td>0.04224</td>\n",
       "      <td>0.09040</td>\n",
       "      <td>0.018690</td>\n",
       "      <td>0.0964</td>\n",
       "      <td>0.00978</td>\n",
       "      <td>0.163375</td>\n",
       "    </tr>\n",
       "  </tbody>\n",
       "</table>\n",
       "</div>"
      ],
      "text/plain": [
       "         id           text  exp477  exp478   exp489   exp492   exp510  \\\n",
       "0  0000aaaa  Aaa bbb ccc .  0.9990  0.9990  0.07367  0.05225  0.09125   \n",
       "1  1111bbbb  Bbb ccc ddd .  0.9995  0.9995  0.04700  0.02806  0.04840   \n",
       "2  2222cccc  CCC ddd eee .  0.9990  0.9990  0.13950  0.04224  0.09040   \n",
       "\n",
       "     exp512  exp500   exp511  generated  \n",
       "0  0.022250  0.1807  0.05792   0.159715  \n",
       "1  0.005867  0.3333  0.12000   0.148480  \n",
       "2  0.018690  0.0964  0.00978   0.163375  "
      ]
     },
     "execution_count": 9,
     "metadata": {},
     "output_type": "execute_result"
    }
   ],
   "source": [
    "df"
   ]
  },
  {
   "cell_type": "code",
   "execution_count": null,
   "id": "7ac4e652",
   "metadata": {
    "papermill": {
     "duration": 0.012819,
     "end_time": "2024-01-27T20:24:20.749986",
     "exception": false,
     "start_time": "2024-01-27T20:24:20.737167",
     "status": "completed"
    },
    "tags": []
   },
   "outputs": [],
   "source": []
  },
  {
   "cell_type": "code",
   "execution_count": 10,
   "id": "1200ccc4",
   "metadata": {
    "execution": {
     "iopub.execute_input": "2024-01-27T20:24:20.776945Z",
     "iopub.status.busy": "2024-01-27T20:24:20.776552Z",
     "iopub.status.idle": "2024-01-27T20:24:20.811470Z",
     "shell.execute_reply": "2024-01-27T20:24:20.810473Z"
    },
    "papermill": {
     "duration": 0.051272,
     "end_time": "2024-01-27T20:24:20.813981",
     "exception": false,
     "start_time": "2024-01-27T20:24:20.762709",
     "status": "completed"
    },
    "tags": []
   },
   "outputs": [],
   "source": [
    "import pandas as pd\n",
    "\n",
    "sub960 = pd.read_csv('submission_960.csv')\n",
    "sub936 = pd.read_csv('submission_936.csv')\n",
    "sub959 = pd.read_csv('submission_959.csv')\n",
    "\n",
    "df = pd.read_csv('/kaggle/input/llm-detect-ai-generated-text/sample_submission.csv')\n",
    "\n",
    "sub960.rename(columns={'generated': 'sub960'}, inplace=True)\n",
    "sub936.rename(columns={'generated': 'sub936'}, inplace=True)\n",
    "sub959.rename(columns={'generated': 'sub959'}, inplace=True)\n",
    "\n",
    "df = pd.merge(df, sub960[['id', 'sub960']], on='id', how='left')\n",
    "df = pd.merge(df, sub936[['id', 'sub936']], on='id', how='left')\n",
    "df = pd.merge(df, sub959[['id', 'sub959']], on='id', how='left')\n",
    "\n",
    "mask1 = (df['sub936'] > 0.1) & (df['sub936'] < 0.9)\n",
    "mask2 = (df['sub936'] < 0.1) | (df['sub936'] > 0.9)\n",
    "\n",
    "df.loc[mask1, 'generated'] = df.loc[mask1, 'sub936'] * 0.0 + df.loc[mask1, 'sub960'] * 1\n",
    "df.loc[mask2, 'generated'] = df.loc[mask2, 'sub936'] * 0.3 + df.loc[mask2, 'sub960'] * 0.7\n",
    "\n",
    "df['generated'] = df['generated'] * 0.85 + df['sub959'] * 0.15"
   ]
  },
  {
   "cell_type": "code",
   "execution_count": 11,
   "id": "50ec6abf",
   "metadata": {
    "execution": {
     "iopub.execute_input": "2024-01-27T20:24:20.843025Z",
     "iopub.status.busy": "2024-01-27T20:24:20.842097Z",
     "iopub.status.idle": "2024-01-27T20:24:20.854843Z",
     "shell.execute_reply": "2024-01-27T20:24:20.853815Z"
    },
    "papermill": {
     "duration": 0.029567,
     "end_time": "2024-01-27T20:24:20.857075",
     "exception": false,
     "start_time": "2024-01-27T20:24:20.827508",
     "status": "completed"
    },
    "tags": []
   },
   "outputs": [
    {
     "data": {
      "text/html": [
       "<div>\n",
       "<style scoped>\n",
       "    .dataframe tbody tr th:only-of-type {\n",
       "        vertical-align: middle;\n",
       "    }\n",
       "\n",
       "    .dataframe tbody tr th {\n",
       "        vertical-align: top;\n",
       "    }\n",
       "\n",
       "    .dataframe thead th {\n",
       "        text-align: right;\n",
       "    }\n",
       "</style>\n",
       "<table border=\"1\" class=\"dataframe\">\n",
       "  <thead>\n",
       "    <tr style=\"text-align: right;\">\n",
       "      <th></th>\n",
       "      <th>id</th>\n",
       "      <th>generated</th>\n",
       "      <th>sub960</th>\n",
       "      <th>sub936</th>\n",
       "      <th>sub959</th>\n",
       "    </tr>\n",
       "  </thead>\n",
       "  <tbody>\n",
       "    <tr>\n",
       "      <th>0</th>\n",
       "      <td>0000aaaa</td>\n",
       "      <td>0.108957</td>\n",
       "      <td>0.1</td>\n",
       "      <td>0.467775</td>\n",
       "      <td>0.159715</td>\n",
       "    </tr>\n",
       "    <tr>\n",
       "      <th>1</th>\n",
       "      <td>1111bbbb</td>\n",
       "      <td>0.787272</td>\n",
       "      <td>0.9</td>\n",
       "      <td>0.247500</td>\n",
       "      <td>0.148480</td>\n",
       "    </tr>\n",
       "    <tr>\n",
       "      <th>2</th>\n",
       "      <td>2222cccc</td>\n",
       "      <td>0.364506</td>\n",
       "      <td>0.4</td>\n",
       "      <td>0.408725</td>\n",
       "      <td>0.163375</td>\n",
       "    </tr>\n",
       "  </tbody>\n",
       "</table>\n",
       "</div>"
      ],
      "text/plain": [
       "         id  generated  sub960    sub936    sub959\n",
       "0  0000aaaa   0.108957     0.1  0.467775  0.159715\n",
       "1  1111bbbb   0.787272     0.9  0.247500  0.148480\n",
       "2  2222cccc   0.364506     0.4  0.408725  0.163375"
      ]
     },
     "execution_count": 11,
     "metadata": {},
     "output_type": "execute_result"
    }
   ],
   "source": [
    "df"
   ]
  },
  {
   "cell_type": "code",
   "execution_count": 12,
   "id": "b730d563",
   "metadata": {
    "execution": {
     "iopub.execute_input": "2024-01-27T20:24:20.884450Z",
     "iopub.status.busy": "2024-01-27T20:24:20.884019Z",
     "iopub.status.idle": "2024-01-27T20:24:20.892745Z",
     "shell.execute_reply": "2024-01-27T20:24:20.891415Z"
    },
    "papermill": {
     "duration": 0.025983,
     "end_time": "2024-01-27T20:24:20.895969",
     "exception": false,
     "start_time": "2024-01-27T20:24:20.869986",
     "status": "completed"
    },
    "tags": []
   },
   "outputs": [],
   "source": [
    "df = df[['id', 'generated']]\n",
    "df.to_csv('submission_main.csv', index=False)"
   ]
  },
  {
   "cell_type": "code",
   "execution_count": null,
   "id": "5412a0a2",
   "metadata": {
    "papermill": {
     "duration": 0.013065,
     "end_time": "2024-01-27T20:24:20.924874",
     "exception": false,
     "start_time": "2024-01-27T20:24:20.911809",
     "status": "completed"
    },
    "tags": []
   },
   "outputs": [],
   "source": []
  },
  {
   "cell_type": "code",
   "execution_count": null,
   "id": "a5505f95",
   "metadata": {
    "papermill": {
     "duration": 0.068421,
     "end_time": "2024-01-27T20:24:21.006709",
     "exception": false,
     "start_time": "2024-01-27T20:24:20.938288",
     "status": "completed"
    },
    "tags": []
   },
   "outputs": [],
   "source": []
  },
  {
   "cell_type": "code",
   "execution_count": 13,
   "id": "4f138f12",
   "metadata": {
    "execution": {
     "iopub.execute_input": "2024-01-27T20:24:21.039060Z",
     "iopub.status.busy": "2024-01-27T20:24:21.038657Z",
     "iopub.status.idle": "2024-01-27T20:24:50.715685Z",
     "shell.execute_reply": "2024-01-27T20:24:50.714684Z"
    },
    "papermill": {
     "duration": 29.699029,
     "end_time": "2024-01-27T20:24:50.719037",
     "exception": false,
     "start_time": "2024-01-27T20:24:21.020008",
     "status": "completed"
    },
    "tags": []
   },
   "outputs": [],
   "source": [
    "import numpy as np\n",
    "import pandas as pd  \n",
    "from sklearn.feature_extraction.text import TfidfVectorizer\n",
    "from sklearn.metrics import roc_auc_score\n",
    "from sklearn.cluster import KMeans\n",
    "import umap\n",
    "\n",
    "from transformers import AutoTokenizer\n",
    "\n",
    "test = pd.read_csv('/kaggle/input/llm-detect-ai-generated-text/test_essays.csv')\n",
    "preds = pd.read_csv('submission_main.csv')\n",
    "\n",
    "test = pd.merge(test, preds, on='id', how='left')\n",
    "tokenizer = AutoTokenizer.from_pretrained('persuade_tokenizer')\n",
    "\n",
    "def dummy(text):\n",
    "    return text\n",
    "    \n",
    "\n",
    "dfs = []\n",
    "for prompt_id in test.prompt_id.unique():\n",
    "    sub = test[test['prompt_id'] == prompt_id].copy()\n",
    "    nat = sub[sub['generated'] < 0.2]\n",
    "    gen = sub[sub['generated'] > 0.8]\n",
    "    \n",
    "    if sub.shape[0] < 1000 or nat.shape[0] < 500 or gen.shape[0] < 500:\n",
    "        sub['mult'] = 1\n",
    "        dfs.append(sub)\n",
    "        continue\n",
    "        \n",
    "    tokenized_texts_test = []\n",
    "    for text in tqdm(sub['text'].tolist()):\n",
    "        tokenized_texts_test.append(tokenizer.tokenize(text))\n",
    "    \n",
    "    nat_tokenized = []\n",
    "    for text in tqdm(nat['text'].tolist()):\n",
    "        nat_tokenized.append(tokenizer.tokenize(text))\n",
    "        \n",
    "    gen_tokenized = []\n",
    "    for text in tqdm(gen['text'].tolist()):\n",
    "        gen_tokenized.append(tokenizer.tokenize(text))\n",
    "        \n",
    "\n",
    "    vectorizer = TfidfVectorizer(ngram_range=(3, 5), lowercase=False, sublinear_tf=True, analyzer = 'word',\n",
    "        tokenizer = dummy,\n",
    "        preprocessor = dummy,\n",
    "        token_pattern = None, strip_accents='unicode')\n",
    "\n",
    "    texts_tfidf = vectorizer.fit_transform(tokenized_texts_test)\n",
    "    nat_tfidf = vectorizer.transform(nat_tokenized)\n",
    "    gen_tfidf = vectorizer.transform(gen_tokenized)\n",
    "        \n",
    "    umap_vectorizer = umap.UMAP(random_state=2023, n_components=2).fit(texts_tfidf)\n",
    "    embeddings = umap_vectorizer.transform(texts_tfidf)\n",
    "    nat_embeddings = umap_vectorizer.transform(nat_tfidf)\n",
    "    gen_embeddings = umap_vectorizer.transform(gen_tfidf)\n",
    "    \n",
    "    multipliers = []\n",
    "    for emb in embeddings:\n",
    "        k = 7\n",
    "\n",
    "        nat_dist = np.sort(np.sum(np.square(emb - nat_embeddings), axis=1))\n",
    "        gen_dist = np.sort(np.sum(np.square(emb - gen_embeddings), axis=1))\n",
    "\n",
    "        if nat_dist[0] == 0:\n",
    "            nat_dist = nat_dist[1:]\n",
    "        else:\n",
    "            gen_dist = gen_dist[1:]\n",
    "\n",
    "        nat_dist = nat_dist[:k].mean()\n",
    "        gen_dist = gen_dist[:k].mean()\n",
    "\n",
    "        mult = nat_dist / (gen_dist+1e-5)\n",
    "        mult = min(mult, 1.25)\n",
    "        mult = max(mult, 0.75)\n",
    "\n",
    "        multipliers.append(mult)\n",
    "    \n",
    "    sub['mult'] = multipliers\n",
    "    dfs.append(sub)\n",
    "    \n",
    "test = pd.concat(dfs)\n",
    "\n",
    "mask = (test['generated'] > 0.1) & (test['generated'] < 0.9)\n",
    "test.loc[mask, 'generated'] = test.loc[mask, 'generated'] * test.loc[mask, 'mult']"
   ]
  },
  {
   "cell_type": "code",
   "execution_count": 14,
   "id": "44ef3aff",
   "metadata": {
    "execution": {
     "iopub.execute_input": "2024-01-27T20:24:50.749813Z",
     "iopub.status.busy": "2024-01-27T20:24:50.748498Z",
     "iopub.status.idle": "2024-01-27T20:24:50.761674Z",
     "shell.execute_reply": "2024-01-27T20:24:50.760566Z"
    },
    "papermill": {
     "duration": 0.030488,
     "end_time": "2024-01-27T20:24:50.764031",
     "exception": false,
     "start_time": "2024-01-27T20:24:50.733543",
     "status": "completed"
    },
    "tags": []
   },
   "outputs": [
    {
     "data": {
      "text/html": [
       "<div>\n",
       "<style scoped>\n",
       "    .dataframe tbody tr th:only-of-type {\n",
       "        vertical-align: middle;\n",
       "    }\n",
       "\n",
       "    .dataframe tbody tr th {\n",
       "        vertical-align: top;\n",
       "    }\n",
       "\n",
       "    .dataframe thead th {\n",
       "        text-align: right;\n",
       "    }\n",
       "</style>\n",
       "<table border=\"1\" class=\"dataframe\">\n",
       "  <thead>\n",
       "    <tr style=\"text-align: right;\">\n",
       "      <th></th>\n",
       "      <th>id</th>\n",
       "      <th>prompt_id</th>\n",
       "      <th>text</th>\n",
       "      <th>generated</th>\n",
       "      <th>mult</th>\n",
       "    </tr>\n",
       "  </thead>\n",
       "  <tbody>\n",
       "    <tr>\n",
       "      <th>0</th>\n",
       "      <td>0000aaaa</td>\n",
       "      <td>2</td>\n",
       "      <td>Aaa bbb ccc.</td>\n",
       "      <td>0.108957</td>\n",
       "      <td>1</td>\n",
       "    </tr>\n",
       "    <tr>\n",
       "      <th>1</th>\n",
       "      <td>1111bbbb</td>\n",
       "      <td>3</td>\n",
       "      <td>Bbb ccc ddd.</td>\n",
       "      <td>0.787272</td>\n",
       "      <td>1</td>\n",
       "    </tr>\n",
       "    <tr>\n",
       "      <th>2</th>\n",
       "      <td>2222cccc</td>\n",
       "      <td>4</td>\n",
       "      <td>CCC ddd eee.</td>\n",
       "      <td>0.364506</td>\n",
       "      <td>1</td>\n",
       "    </tr>\n",
       "  </tbody>\n",
       "</table>\n",
       "</div>"
      ],
      "text/plain": [
       "         id  prompt_id          text  generated  mult\n",
       "0  0000aaaa          2  Aaa bbb ccc.   0.108957     1\n",
       "1  1111bbbb          3  Bbb ccc ddd.   0.787272     1\n",
       "2  2222cccc          4  CCC ddd eee.   0.364506     1"
      ]
     },
     "execution_count": 14,
     "metadata": {},
     "output_type": "execute_result"
    }
   ],
   "source": [
    "test"
   ]
  },
  {
   "cell_type": "code",
   "execution_count": 15,
   "id": "56b4b188",
   "metadata": {
    "execution": {
     "iopub.execute_input": "2024-01-27T20:24:50.797010Z",
     "iopub.status.busy": "2024-01-27T20:24:50.796012Z",
     "iopub.status.idle": "2024-01-27T20:24:50.804378Z",
     "shell.execute_reply": "2024-01-27T20:24:50.803189Z"
    },
    "papermill": {
     "duration": 0.025842,
     "end_time": "2024-01-27T20:24:50.806772",
     "exception": false,
     "start_time": "2024-01-27T20:24:50.780930",
     "status": "completed"
    },
    "tags": []
   },
   "outputs": [],
   "source": [
    "test = test[['id', 'generated']]\n",
    "test.to_csv('submission.csv', index=False)"
   ]
  },
  {
   "cell_type": "code",
   "execution_count": 16,
   "id": "795575fb",
   "metadata": {
    "execution": {
     "iopub.execute_input": "2024-01-27T20:24:50.839981Z",
     "iopub.status.busy": "2024-01-27T20:24:50.839201Z",
     "iopub.status.idle": "2024-01-27T20:24:50.851342Z",
     "shell.execute_reply": "2024-01-27T20:24:50.850312Z"
    },
    "papermill": {
     "duration": 0.031315,
     "end_time": "2024-01-27T20:24:50.853448",
     "exception": false,
     "start_time": "2024-01-27T20:24:50.822133",
     "status": "completed"
    },
    "tags": []
   },
   "outputs": [
    {
     "data": {
      "text/html": [
       "<div>\n",
       "<style scoped>\n",
       "    .dataframe tbody tr th:only-of-type {\n",
       "        vertical-align: middle;\n",
       "    }\n",
       "\n",
       "    .dataframe tbody tr th {\n",
       "        vertical-align: top;\n",
       "    }\n",
       "\n",
       "    .dataframe thead th {\n",
       "        text-align: right;\n",
       "    }\n",
       "</style>\n",
       "<table border=\"1\" class=\"dataframe\">\n",
       "  <thead>\n",
       "    <tr style=\"text-align: right;\">\n",
       "      <th></th>\n",
       "      <th>id</th>\n",
       "      <th>generated</th>\n",
       "    </tr>\n",
       "  </thead>\n",
       "  <tbody>\n",
       "    <tr>\n",
       "      <th>0</th>\n",
       "      <td>0000aaaa</td>\n",
       "      <td>0.108957</td>\n",
       "    </tr>\n",
       "    <tr>\n",
       "      <th>1</th>\n",
       "      <td>1111bbbb</td>\n",
       "      <td>0.787272</td>\n",
       "    </tr>\n",
       "    <tr>\n",
       "      <th>2</th>\n",
       "      <td>2222cccc</td>\n",
       "      <td>0.364506</td>\n",
       "    </tr>\n",
       "  </tbody>\n",
       "</table>\n",
       "</div>"
      ],
      "text/plain": [
       "         id  generated\n",
       "0  0000aaaa   0.108957\n",
       "1  1111bbbb   0.787272\n",
       "2  2222cccc   0.364506"
      ]
     },
     "execution_count": 16,
     "metadata": {},
     "output_type": "execute_result"
    }
   ],
   "source": [
    "test"
   ]
  },
  {
   "cell_type": "code",
   "execution_count": null,
   "id": "d6d784cd",
   "metadata": {
    "papermill": {
     "duration": 0.013959,
     "end_time": "2024-01-27T20:24:50.881468",
     "exception": false,
     "start_time": "2024-01-27T20:24:50.867509",
     "status": "completed"
    },
    "tags": []
   },
   "outputs": [],
   "source": []
  },
  {
   "cell_type": "code",
   "execution_count": null,
   "id": "a0d98e3e",
   "metadata": {
    "papermill": {
     "duration": 0.019719,
     "end_time": "2024-01-27T20:24:50.920541",
     "exception": false,
     "start_time": "2024-01-27T20:24:50.900822",
     "status": "completed"
    },
    "tags": []
   },
   "outputs": [],
   "source": []
  }
 ],
 "metadata": {
  "kaggle": {
   "accelerator": "gpu",
   "dataSources": [
    {
     "databundleVersionId": 7516023,
     "sourceId": 61542,
     "sourceType": "competition"
    },
    {
     "databundleVersionId": 6987419,
     "datasetId": 3960967,
     "sourceId": 6901341,
     "sourceType": "datasetVersion"
    },
    {
     "databundleVersionId": 6976515,
     "datasetId": 3942644,
     "sourceId": 6890527,
     "sourceType": "datasetVersion"
    },
    {
     "databundleVersionId": 7064285,
     "datasetId": 4005256,
     "sourceId": 6977472,
     "sourceType": "datasetVersion"
    },
    {
     "databundleVersionId": 6950854,
     "datasetId": 3945154,
     "sourceId": 6865136,
     "sourceType": "datasetVersion"
    },
    {
     "databundleVersionId": 7573039,
     "datasetId": 4354596,
     "sourceId": 7480586,
     "sourceType": "datasetVersion"
    },
    {
     "databundleVersionId": 7587245,
     "datasetId": 4361897,
     "sourceId": 7494392,
     "sourceType": "datasetVersion"
    },
    {
     "databundleVersionId": 7104581,
     "datasetId": 3937250,
     "sourceId": 7017419,
     "sourceType": "datasetVersion"
    },
    {
     "databundleVersionId": 6338203,
     "datasetId": 3596984,
     "sourceId": 6258399,
     "sourceType": "datasetVersion"
    },
    {
     "sourceId": 152459920,
     "sourceType": "kernelVersion"
    }
   ],
   "dockerImageVersionId": 30588,
   "isGpuEnabled": true,
   "isInternetEnabled": false,
   "language": "python",
   "sourceType": "notebook"
  },
  "kernelspec": {
   "display_name": "Python 3",
   "language": "python",
   "name": "python3"
  },
  "language_info": {
   "codemirror_mode": {
    "name": "ipython",
    "version": 3
   },
   "file_extension": ".py",
   "mimetype": "text/x-python",
   "name": "python",
   "nbconvert_exporter": "python",
   "pygments_lexer": "ipython3",
   "version": "3.10.12"
  },
  "papermill": {
   "default_parameters": {},
   "duration": 599.986612,
   "end_time": "2024-01-27T20:24:54.398643",
   "environment_variables": {},
   "exception": null,
   "input_path": "__notebook__.ipynb",
   "output_path": "__notebook__.ipynb",
   "parameters": {},
   "start_time": "2024-01-27T20:14:54.412031",
   "version": "2.4.0"
  },
  "widgets": {
   "application/vnd.jupyter.widget-state+json": {
    "state": {
     "0cbf0e68daf94cbd81e7617eb1f90d6a": {
      "model_module": "@jupyter-widgets/controls",
      "model_module_version": "1.5.0",
      "model_name": "FloatProgressModel",
      "state": {
       "_dom_classes": [],
       "_model_module": "@jupyter-widgets/controls",
       "_model_module_version": "1.5.0",
       "_model_name": "FloatProgressModel",
       "_view_count": null,
       "_view_module": "@jupyter-widgets/controls",
       "_view_module_version": "1.5.0",
       "_view_name": "ProgressView",
       "bar_style": "success",
       "description": "",
       "description_tooltip": null,
       "layout": "IPY_MODEL_9df3eb08ffde4e4aa7bdbf710e116128",
       "max": 3.0,
       "min": 0.0,
       "orientation": "horizontal",
       "style": "IPY_MODEL_1e1e2abd83c940b699bddad0df0b74a1",
       "value": 3.0
      }
     },
     "15966e3917574c01b45fd8205c49da1d": {
      "model_module": "@jupyter-widgets/controls",
      "model_module_version": "1.5.0",
      "model_name": "HTMLModel",
      "state": {
       "_dom_classes": [],
       "_model_module": "@jupyter-widgets/controls",
       "_model_module_version": "1.5.0",
       "_model_name": "HTMLModel",
       "_view_count": null,
       "_view_module": "@jupyter-widgets/controls",
       "_view_module_version": "1.5.0",
       "_view_name": "HTMLView",
       "description": "",
       "description_tooltip": null,
       "layout": "IPY_MODEL_534096e348df4b4880538dd564399b1b",
       "placeholder": "​",
       "style": "IPY_MODEL_ceaba3d715984725a8e99e62a3a84052",
       "value": "100%"
      }
     },
     "1e1e2abd83c940b699bddad0df0b74a1": {
      "model_module": "@jupyter-widgets/controls",
      "model_module_version": "1.5.0",
      "model_name": "ProgressStyleModel",
      "state": {
       "_model_module": "@jupyter-widgets/controls",
       "_model_module_version": "1.5.0",
       "_model_name": "ProgressStyleModel",
       "_view_count": null,
       "_view_module": "@jupyter-widgets/base",
       "_view_module_version": "1.2.0",
       "_view_name": "StyleView",
       "bar_color": null,
       "description_width": ""
      }
     },
     "20a9612ceb584d378a0d73a10094b5a8": {
      "model_module": "@jupyter-widgets/base",
      "model_module_version": "1.2.0",
      "model_name": "LayoutModel",
      "state": {
       "_model_module": "@jupyter-widgets/base",
       "_model_module_version": "1.2.0",
       "_model_name": "LayoutModel",
       "_view_count": null,
       "_view_module": "@jupyter-widgets/base",
       "_view_module_version": "1.2.0",
       "_view_name": "LayoutView",
       "align_content": null,
       "align_items": null,
       "align_self": null,
       "border": null,
       "bottom": null,
       "display": null,
       "flex": null,
       "flex_flow": null,
       "grid_area": null,
       "grid_auto_columns": null,
       "grid_auto_flow": null,
       "grid_auto_rows": null,
       "grid_column": null,
       "grid_gap": null,
       "grid_row": null,
       "grid_template_areas": null,
       "grid_template_columns": null,
       "grid_template_rows": null,
       "height": null,
       "justify_content": null,
       "justify_items": null,
       "left": null,
       "margin": null,
       "max_height": null,
       "max_width": null,
       "min_height": null,
       "min_width": null,
       "object_fit": null,
       "object_position": null,
       "order": null,
       "overflow": null,
       "overflow_x": null,
       "overflow_y": null,
       "padding": null,
       "right": null,
       "top": null,
       "visibility": null,
       "width": null
      }
     },
     "3ea5bd4f13404b6d85be4b1b3bddd06a": {
      "model_module": "@jupyter-widgets/controls",
      "model_module_version": "1.5.0",
      "model_name": "ProgressStyleModel",
      "state": {
       "_model_module": "@jupyter-widgets/controls",
       "_model_module_version": "1.5.0",
       "_model_name": "ProgressStyleModel",
       "_view_count": null,
       "_view_module": "@jupyter-widgets/base",
       "_view_module_version": "1.2.0",
       "_view_name": "StyleView",
       "bar_color": null,
       "description_width": ""
      }
     },
     "408d755139ff4f4cb76fbad8929df929": {
      "model_module": "@jupyter-widgets/base",
      "model_module_version": "1.2.0",
      "model_name": "LayoutModel",
      "state": {
       "_model_module": "@jupyter-widgets/base",
       "_model_module_version": "1.2.0",
       "_model_name": "LayoutModel",
       "_view_count": null,
       "_view_module": "@jupyter-widgets/base",
       "_view_module_version": "1.2.0",
       "_view_name": "LayoutView",
       "align_content": null,
       "align_items": null,
       "align_self": null,
       "border": null,
       "bottom": null,
       "display": null,
       "flex": null,
       "flex_flow": null,
       "grid_area": null,
       "grid_auto_columns": null,
       "grid_auto_flow": null,
       "grid_auto_rows": null,
       "grid_column": null,
       "grid_gap": null,
       "grid_row": null,
       "grid_template_areas": null,
       "grid_template_columns": null,
       "grid_template_rows": null,
       "height": null,
       "justify_content": null,
       "justify_items": null,
       "left": null,
       "margin": null,
       "max_height": null,
       "max_width": null,
       "min_height": null,
       "min_width": null,
       "object_fit": null,
       "object_position": null,
       "order": null,
       "overflow": null,
       "overflow_x": null,
       "overflow_y": null,
       "padding": null,
       "right": null,
       "top": null,
       "visibility": null,
       "width": null
      }
     },
     "534096e348df4b4880538dd564399b1b": {
      "model_module": "@jupyter-widgets/base",
      "model_module_version": "1.2.0",
      "model_name": "LayoutModel",
      "state": {
       "_model_module": "@jupyter-widgets/base",
       "_model_module_version": "1.2.0",
       "_model_name": "LayoutModel",
       "_view_count": null,
       "_view_module": "@jupyter-widgets/base",
       "_view_module_version": "1.2.0",
       "_view_name": "LayoutView",
       "align_content": null,
       "align_items": null,
       "align_self": null,
       "border": null,
       "bottom": null,
       "display": null,
       "flex": null,
       "flex_flow": null,
       "grid_area": null,
       "grid_auto_columns": null,
       "grid_auto_flow": null,
       "grid_auto_rows": null,
       "grid_column": null,
       "grid_gap": null,
       "grid_row": null,
       "grid_template_areas": null,
       "grid_template_columns": null,
       "grid_template_rows": null,
       "height": null,
       "justify_content": null,
       "justify_items": null,
       "left": null,
       "margin": null,
       "max_height": null,
       "max_width": null,
       "min_height": null,
       "min_width": null,
       "object_fit": null,
       "object_position": null,
       "order": null,
       "overflow": null,
       "overflow_x": null,
       "overflow_y": null,
       "padding": null,
       "right": null,
       "top": null,
       "visibility": null,
       "width": null
      }
     },
     "752d251cb4d643c1a23e055183a77204": {
      "model_module": "@jupyter-widgets/controls",
      "model_module_version": "1.5.0",
      "model_name": "DescriptionStyleModel",
      "state": {
       "_model_module": "@jupyter-widgets/controls",
       "_model_module_version": "1.5.0",
       "_model_name": "DescriptionStyleModel",
       "_view_count": null,
       "_view_module": "@jupyter-widgets/base",
       "_view_module_version": "1.2.0",
       "_view_name": "StyleView",
       "description_width": ""
      }
     },
     "8427b69a7aa44797bcfa53f7901b0505": {
      "model_module": "@jupyter-widgets/base",
      "model_module_version": "1.2.0",
      "model_name": "LayoutModel",
      "state": {
       "_model_module": "@jupyter-widgets/base",
       "_model_module_version": "1.2.0",
       "_model_name": "LayoutModel",
       "_view_count": null,
       "_view_module": "@jupyter-widgets/base",
       "_view_module_version": "1.2.0",
       "_view_name": "LayoutView",
       "align_content": null,
       "align_items": null,
       "align_self": null,
       "border": null,
       "bottom": null,
       "display": null,
       "flex": null,
       "flex_flow": null,
       "grid_area": null,
       "grid_auto_columns": null,
       "grid_auto_flow": null,
       "grid_auto_rows": null,
       "grid_column": null,
       "grid_gap": null,
       "grid_row": null,
       "grid_template_areas": null,
       "grid_template_columns": null,
       "grid_template_rows": null,
       "height": null,
       "justify_content": null,
       "justify_items": null,
       "left": null,
       "margin": null,
       "max_height": null,
       "max_width": null,
       "min_height": null,
       "min_width": null,
       "object_fit": null,
       "object_position": null,
       "order": null,
       "overflow": null,
       "overflow_x": null,
       "overflow_y": null,
       "padding": null,
       "right": null,
       "top": null,
       "visibility": null,
       "width": null
      }
     },
     "8c3189c0bab54fdfbfd64b5d3cc06b14": {
      "model_module": "@jupyter-widgets/base",
      "model_module_version": "1.2.0",
      "model_name": "LayoutModel",
      "state": {
       "_model_module": "@jupyter-widgets/base",
       "_model_module_version": "1.2.0",
       "_model_name": "LayoutModel",
       "_view_count": null,
       "_view_module": "@jupyter-widgets/base",
       "_view_module_version": "1.2.0",
       "_view_name": "LayoutView",
       "align_content": null,
       "align_items": null,
       "align_self": null,
       "border": null,
       "bottom": null,
       "display": null,
       "flex": null,
       "flex_flow": null,
       "grid_area": null,
       "grid_auto_columns": null,
       "grid_auto_flow": null,
       "grid_auto_rows": null,
       "grid_column": null,
       "grid_gap": null,
       "grid_row": null,
       "grid_template_areas": null,
       "grid_template_columns": null,
       "grid_template_rows": null,
       "height": null,
       "justify_content": null,
       "justify_items": null,
       "left": null,
       "margin": null,
       "max_height": null,
       "max_width": null,
       "min_height": null,
       "min_width": null,
       "object_fit": null,
       "object_position": null,
       "order": null,
       "overflow": null,
       "overflow_x": null,
       "overflow_y": null,
       "padding": null,
       "right": null,
       "top": null,
       "visibility": null,
       "width": null
      }
     },
     "8d3b5e7404da41f6b55c8081689fc348": {
      "model_module": "@jupyter-widgets/controls",
      "model_module_version": "1.5.0",
      "model_name": "DescriptionStyleModel",
      "state": {
       "_model_module": "@jupyter-widgets/controls",
       "_model_module_version": "1.5.0",
       "_model_name": "DescriptionStyleModel",
       "_view_count": null,
       "_view_module": "@jupyter-widgets/base",
       "_view_module_version": "1.2.0",
       "_view_name": "StyleView",
       "description_width": ""
      }
     },
     "9df3eb08ffde4e4aa7bdbf710e116128": {
      "model_module": "@jupyter-widgets/base",
      "model_module_version": "1.2.0",
      "model_name": "LayoutModel",
      "state": {
       "_model_module": "@jupyter-widgets/base",
       "_model_module_version": "1.2.0",
       "_model_name": "LayoutModel",
       "_view_count": null,
       "_view_module": "@jupyter-widgets/base",
       "_view_module_version": "1.2.0",
       "_view_name": "LayoutView",
       "align_content": null,
       "align_items": null,
       "align_self": null,
       "border": null,
       "bottom": null,
       "display": null,
       "flex": null,
       "flex_flow": null,
       "grid_area": null,
       "grid_auto_columns": null,
       "grid_auto_flow": null,
       "grid_auto_rows": null,
       "grid_column": null,
       "grid_gap": null,
       "grid_row": null,
       "grid_template_areas": null,
       "grid_template_columns": null,
       "grid_template_rows": null,
       "height": null,
       "justify_content": null,
       "justify_items": null,
       "left": null,
       "margin": null,
       "max_height": null,
       "max_width": null,
       "min_height": null,
       "min_width": null,
       "object_fit": null,
       "object_position": null,
       "order": null,
       "overflow": null,
       "overflow_x": null,
       "overflow_y": null,
       "padding": null,
       "right": null,
       "top": null,
       "visibility": null,
       "width": null
      }
     },
     "a952ef4b152545218b4eca0be22361a8": {
      "model_module": "@jupyter-widgets/controls",
      "model_module_version": "1.5.0",
      "model_name": "HTMLModel",
      "state": {
       "_dom_classes": [],
       "_model_module": "@jupyter-widgets/controls",
       "_model_module_version": "1.5.0",
       "_model_name": "HTMLModel",
       "_view_count": null,
       "_view_module": "@jupyter-widgets/controls",
       "_view_module_version": "1.5.0",
       "_view_name": "HTMLView",
       "description": "",
       "description_tooltip": null,
       "layout": "IPY_MODEL_b7713ad4e4014935a7fb0a316cb9f762",
       "placeholder": "​",
       "style": "IPY_MODEL_8d3b5e7404da41f6b55c8081689fc348",
       "value": "100%"
      }
     },
     "a97d95b5ed5c42b0aed01df870c1bd10": {
      "model_module": "@jupyter-widgets/controls",
      "model_module_version": "1.5.0",
      "model_name": "FloatProgressModel",
      "state": {
       "_dom_classes": [],
       "_model_module": "@jupyter-widgets/controls",
       "_model_module_version": "1.5.0",
       "_model_name": "FloatProgressModel",
       "_view_count": null,
       "_view_module": "@jupyter-widgets/controls",
       "_view_module_version": "1.5.0",
       "_view_name": "ProgressView",
       "bar_style": "success",
       "description": "",
       "description_tooltip": null,
       "layout": "IPY_MODEL_20a9612ceb584d378a0d73a10094b5a8",
       "max": 44865.0,
       "min": 0.0,
       "orientation": "horizontal",
       "style": "IPY_MODEL_3ea5bd4f13404b6d85be4b1b3bddd06a",
       "value": 44865.0
      }
     },
     "b7713ad4e4014935a7fb0a316cb9f762": {
      "model_module": "@jupyter-widgets/base",
      "model_module_version": "1.2.0",
      "model_name": "LayoutModel",
      "state": {
       "_model_module": "@jupyter-widgets/base",
       "_model_module_version": "1.2.0",
       "_model_name": "LayoutModel",
       "_view_count": null,
       "_view_module": "@jupyter-widgets/base",
       "_view_module_version": "1.2.0",
       "_view_name": "LayoutView",
       "align_content": null,
       "align_items": null,
       "align_self": null,
       "border": null,
       "bottom": null,
       "display": null,
       "flex": null,
       "flex_flow": null,
       "grid_area": null,
       "grid_auto_columns": null,
       "grid_auto_flow": null,
       "grid_auto_rows": null,
       "grid_column": null,
       "grid_gap": null,
       "grid_row": null,
       "grid_template_areas": null,
       "grid_template_columns": null,
       "grid_template_rows": null,
       "height": null,
       "justify_content": null,
       "justify_items": null,
       "left": null,
       "margin": null,
       "max_height": null,
       "max_width": null,
       "min_height": null,
       "min_width": null,
       "object_fit": null,
       "object_position": null,
       "order": null,
       "overflow": null,
       "overflow_x": null,
       "overflow_y": null,
       "padding": null,
       "right": null,
       "top": null,
       "visibility": null,
       "width": null
      }
     },
     "ceaba3d715984725a8e99e62a3a84052": {
      "model_module": "@jupyter-widgets/controls",
      "model_module_version": "1.5.0",
      "model_name": "DescriptionStyleModel",
      "state": {
       "_model_module": "@jupyter-widgets/controls",
       "_model_module_version": "1.5.0",
       "_model_name": "DescriptionStyleModel",
       "_view_count": null,
       "_view_module": "@jupyter-widgets/base",
       "_view_module_version": "1.2.0",
       "_view_name": "StyleView",
       "description_width": ""
      }
     },
     "dad4a3570f04422abd32037a3083de55": {
      "model_module": "@jupyter-widgets/base",
      "model_module_version": "1.2.0",
      "model_name": "LayoutModel",
      "state": {
       "_model_module": "@jupyter-widgets/base",
       "_model_module_version": "1.2.0",
       "_model_name": "LayoutModel",
       "_view_count": null,
       "_view_module": "@jupyter-widgets/base",
       "_view_module_version": "1.2.0",
       "_view_name": "LayoutView",
       "align_content": null,
       "align_items": null,
       "align_self": null,
       "border": null,
       "bottom": null,
       "display": null,
       "flex": null,
       "flex_flow": null,
       "grid_area": null,
       "grid_auto_columns": null,
       "grid_auto_flow": null,
       "grid_auto_rows": null,
       "grid_column": null,
       "grid_gap": null,
       "grid_row": null,
       "grid_template_areas": null,
       "grid_template_columns": null,
       "grid_template_rows": null,
       "height": null,
       "justify_content": null,
       "justify_items": null,
       "left": null,
       "margin": null,
       "max_height": null,
       "max_width": null,
       "min_height": null,
       "min_width": null,
       "object_fit": null,
       "object_position": null,
       "order": null,
       "overflow": null,
       "overflow_x": null,
       "overflow_y": null,
       "padding": null,
       "right": null,
       "top": null,
       "visibility": null,
       "width": null
      }
     },
     "db5f6fc1fa6b4b528543b215a58a88d0": {
      "model_module": "@jupyter-widgets/controls",
      "model_module_version": "1.5.0",
      "model_name": "HBoxModel",
      "state": {
       "_dom_classes": [],
       "_model_module": "@jupyter-widgets/controls",
       "_model_module_version": "1.5.0",
       "_model_name": "HBoxModel",
       "_view_count": null,
       "_view_module": "@jupyter-widgets/controls",
       "_view_module_version": "1.5.0",
       "_view_name": "HBoxView",
       "box_style": "",
       "children": [
        "IPY_MODEL_a952ef4b152545218b4eca0be22361a8",
        "IPY_MODEL_0cbf0e68daf94cbd81e7617eb1f90d6a",
        "IPY_MODEL_e5b376cb31fd4e4097a4006707f876fe"
       ],
       "layout": "IPY_MODEL_8427b69a7aa44797bcfa53f7901b0505"
      }
     },
     "e5b376cb31fd4e4097a4006707f876fe": {
      "model_module": "@jupyter-widgets/controls",
      "model_module_version": "1.5.0",
      "model_name": "HTMLModel",
      "state": {
       "_dom_classes": [],
       "_model_module": "@jupyter-widgets/controls",
       "_model_module_version": "1.5.0",
       "_model_name": "HTMLModel",
       "_view_count": null,
       "_view_module": "@jupyter-widgets/controls",
       "_view_module_version": "1.5.0",
       "_view_name": "HTMLView",
       "description": "",
       "description_tooltip": null,
       "layout": "IPY_MODEL_8c3189c0bab54fdfbfd64b5d3cc06b14",
       "placeholder": "​",
       "style": "IPY_MODEL_752d251cb4d643c1a23e055183a77204",
       "value": " 3/3 [00:00&lt;00:00, 187.14it/s]"
      }
     },
     "e75c52f5ce6f49d4a2eb04def53b77e6": {
      "model_module": "@jupyter-widgets/controls",
      "model_module_version": "1.5.0",
      "model_name": "HTMLModel",
      "state": {
       "_dom_classes": [],
       "_model_module": "@jupyter-widgets/controls",
       "_model_module_version": "1.5.0",
       "_model_name": "HTMLModel",
       "_view_count": null,
       "_view_module": "@jupyter-widgets/controls",
       "_view_module_version": "1.5.0",
       "_view_name": "HTMLView",
       "description": "",
       "description_tooltip": null,
       "layout": "IPY_MODEL_dad4a3570f04422abd32037a3083de55",
       "placeholder": "​",
       "style": "IPY_MODEL_f920864551ba4329b5b2260b7032fd7e",
       "value": " 44865/44865 [01:24&lt;00:00, 494.87it/s]"
      }
     },
     "f6a18e89d1a24153b7e1a635f0a6663d": {
      "model_module": "@jupyter-widgets/controls",
      "model_module_version": "1.5.0",
      "model_name": "HBoxModel",
      "state": {
       "_dom_classes": [],
       "_model_module": "@jupyter-widgets/controls",
       "_model_module_version": "1.5.0",
       "_model_name": "HBoxModel",
       "_view_count": null,
       "_view_module": "@jupyter-widgets/controls",
       "_view_module_version": "1.5.0",
       "_view_name": "HBoxView",
       "box_style": "",
       "children": [
        "IPY_MODEL_15966e3917574c01b45fd8205c49da1d",
        "IPY_MODEL_a97d95b5ed5c42b0aed01df870c1bd10",
        "IPY_MODEL_e75c52f5ce6f49d4a2eb04def53b77e6"
       ],
       "layout": "IPY_MODEL_408d755139ff4f4cb76fbad8929df929"
      }
     },
     "f920864551ba4329b5b2260b7032fd7e": {
      "model_module": "@jupyter-widgets/controls",
      "model_module_version": "1.5.0",
      "model_name": "DescriptionStyleModel",
      "state": {
       "_model_module": "@jupyter-widgets/controls",
       "_model_module_version": "1.5.0",
       "_model_name": "DescriptionStyleModel",
       "_view_count": null,
       "_view_module": "@jupyter-widgets/base",
       "_view_module_version": "1.2.0",
       "_view_name": "StyleView",
       "description_width": ""
      }
     }
    },
    "version_major": 2,
    "version_minor": 0
   }
  }
 },
 "nbformat": 4,
 "nbformat_minor": 5
}
